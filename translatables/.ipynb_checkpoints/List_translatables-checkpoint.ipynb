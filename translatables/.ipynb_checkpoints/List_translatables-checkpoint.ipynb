{
 "cells": [
  {
   "cell_type": "code",
   "execution_count": 72,
   "id": "potential-collective",
   "metadata": {},
   "outputs": [
    {
     "name": "stdout",
     "output_type": "stream",
     "text": [
      "/home/longchau/civ6/apps/translatables/translatables\n"
     ]
    }
   ],
   "source": [
    "!pwd"
   ]
  },
  {
   "cell_type": "markdown",
   "id": "extraordinary-prairie",
   "metadata": {},
   "source": [
    "# Count number of files need to be translated"
   ]
  },
  {
   "cell_type": "markdown",
   "id": "aerial-optics",
   "metadata": {},
   "source": [
    "## Predefined formula"
   ]
  },
  {
   "cell_type": "code",
   "execution_count": 14,
   "id": "incorrect-giving",
   "metadata": {},
   "outputs": [],
   "source": [
    "import os\n",
    "from pathlib import Path\n",
    "\n",
    "TEXT_EN_US = Path(\"Text\", \"en_US\")\n",
    "\n",
    "base_dir = Path(\"/mnt/l/Games/steamapps/common/Sid Meier's Civilization VI/Base\")\n",
    "dlc_dir  = Path(\"/mnt/l/Games/steamapps/common/Sid Meier's Civilization VI/DLC\")\n",
    "base_translatables_dir = base_dir/ \"Assets\" / TEXT_EN_US"
   ]
  },
  {
   "cell_type": "markdown",
   "id": "prostate-smooth",
   "metadata": {},
   "source": [
    "## Base listing"
   ]
  },
  {
   "cell_type": "code",
   "execution_count": 15,
   "id": "received-snapshot",
   "metadata": {},
   "outputs": [
    {
     "data": {
      "text/plain": [
       "115"
      ]
     },
     "execution_count": 15,
     "metadata": {},
     "output_type": "execute_result"
    }
   ],
   "source": [
    "translatables_basefiles = [ f.path for f in os.scandir(base_translatables_dir)]\n",
    "len(translatables_basefiles)"
   ]
  },
  {
   "cell_type": "markdown",
   "id": "announced-genome",
   "metadata": {},
   "source": [
    "There are 115 files to translate in base"
   ]
  },
  {
   "cell_type": "markdown",
   "id": "planned-argentina",
   "metadata": {},
   "source": [
    "## DLC listing"
   ]
  },
  {
   "cell_type": "code",
   "execution_count": 109,
   "id": "heard-forum",
   "metadata": {},
   "outputs": [
    {
     "name": "stdout",
     "output_type": "stream",
     "text": [
      "\n",
      "      There are 30 available DLCs.\n",
      " \n",
      "      There are 26 DLCs have Text/en_US/.\n",
      "\n",
      "      There are 225 files xml to be translated.\n",
      "      \n"
     ]
    }
   ],
   "source": [
    "available_dlc = [ Path(f) for f in os.scandir(dlc_dir)] \n",
    "available_dlc_translatables = [d for d in available_dlc if (d/TEXT_EN_US).exists()]\n",
    "available_dlc_translatables_basefiles = [file.path for f in available_dlc_translatables for file in os.scandir(f/TEXT_EN_US)]\n",
    "print(f\"\"\"\n",
    "      There are {len(available_dlc)} available DLCs.\\n \n",
    "      There are {len(available_dlc_translatables)} DLCs have Text/en_US/.\\n\n",
    "      There are {len(available_dlc_translatables_basefiles)} files xml to be translated.\n",
    "      \"\"\")"
   ]
  },
  {
   "cell_type": "code",
   "execution_count": 110,
   "id": "sought-wesley",
   "metadata": {},
   "outputs": [
    {
     "data": {
      "text/plain": [
       "225"
      ]
     },
     "execution_count": 110,
     "metadata": {},
     "output_type": "execute_result"
    }
   ],
   "source": [
    "len(available_dlc_translatables_basefiles)"
   ]
  },
  {
   "cell_type": "markdown",
   "id": "educated-blues",
   "metadata": {},
   "source": [
    "# Look into each file"
   ]
  },
  {
   "cell_type": "markdown",
   "id": "statistical-raising",
   "metadata": {},
   "source": [
    "## Check one random translatable file:"
   ]
  },
  {
   "cell_type": "markdown",
   "id": "democratic-volume",
   "metadata": {},
   "source": [
    "### Base game"
   ]
  },
  {
   "cell_type": "code",
   "execution_count": 32,
   "id": "bearing-numbers",
   "metadata": {},
   "outputs": [],
   "source": [
    "import xml.etree.ElementTree as ET\n",
    "\n",
    "onefile_example_tree = ET.parse(translatables_basefiles[0])\n",
    "onefile_example_root = onefile_example_tree.getroot()"
   ]
  },
  {
   "cell_type": "code",
   "execution_count": 38,
   "id": "bright-philosophy",
   "metadata": {},
   "outputs": [
    {
     "data": {
      "text/plain": [
       "\"/mnt/l/Games/steamapps/common/Sid Meier's Civilization VI/Base/Assets/Text/en_US/AdvisorText.xml\""
      ]
     },
     "execution_count": 38,
     "metadata": {},
     "output_type": "execute_result"
    }
   ],
   "source": [
    "translatables_basefiles[0]"
   ]
  },
  {
   "cell_type": "code",
   "execution_count": 66,
   "id": "systematic-grant",
   "metadata": {},
   "outputs": [
    {
     "name": "stdout",
     "output_type": "stream",
     "text": [
      "ADVISOR_LINE_FTUE_453 \n",
      "    Though our policies begin to bear fruit our civilization will only continue to grow.  We must plan for the future...\n",
      "ADVISOR_LINE_FTUE_48 \n",
      "    Our people have looked to the heavens, and begun to wonder if our fortunes may be guided by the hands of a greater power. Who are these great gods, and what blessings might they bestow upon us?\n",
      "ADVISOR_LINE_FTUE_50_ALT \n",
      "    Your inspiration is contagious.  Though our civilization achieves greatness under your leadership, one amongst our people truly shines above all others. Under your guidance shall their impact truly reverberate throughout history.\n",
      "ADVISOR_LINE_FTUE_51_ALT \n",
      "    Isolation is not the key to prosperity. These traders allow us to reach out to our neighbors. Through trade, we stand to boost our economy, and gain new insights into the mysteries of the world.\n",
      "ADVISOR_LINE_FTUE_52_ALT \n",
      "    We have made contact with people more advanced than the Tribal Villagers who have aided us in the past. Should we extend the hand of friendship or look to conquer them?\n",
      "ADVISOR_LINE_FTUE_WONDER_73 \n",
      "    The beauty and majesty of this world is sometimes enough to inspire our people to new directions of thought. This was a fortunate discovery...\n",
      "ADVISOR_LINE_FTUE_POP_HUT_1 \n",
      "    Again our brave Scouts prove their worth to our people.\n",
      "ADVISOR_LINE_FTUE_GENERAL_1 \n",
      "    May I make a suggestion…\n",
      "ADVISOR_LINE_FTUE_GENERAL_2 \n",
      "    As you wish.\n",
      "ADVISOR_LINE_7_ALT_2 \n",
      "    We have spotted another friendly village nearby. Perhaps we should send a Scout to investigate.\n"
     ]
    }
   ],
   "source": [
    "for loc_row in onefile_example_root.findall('BaseGameText/Row')[-10:]:\n",
    "    print(f\"{loc_row.attrib['Tag']} \\n    {loc_row.find('Text').text}\")\n",
    "    "
   ]
  },
  {
   "cell_type": "code",
   "execution_count": 27,
   "id": "furnished-functionality",
   "metadata": {},
   "outputs": [
    {
     "data": {
      "text/plain": [
       "'GameData'"
      ]
     },
     "execution_count": 27,
     "metadata": {},
     "output_type": "execute_result"
    }
   ],
   "source": [
    "onefile_example_root.tag"
   ]
  },
  {
   "cell_type": "code",
   "execution_count": 28,
   "id": "basic-sucking",
   "metadata": {},
   "outputs": [
    {
     "data": {
      "text/plain": [
       "{}"
      ]
     },
     "execution_count": 28,
     "metadata": {},
     "output_type": "execute_result"
    }
   ],
   "source": [
    "onefile_example_root.attrib"
   ]
  },
  {
   "cell_type": "code",
   "execution_count": 30,
   "id": "creative-aerospace",
   "metadata": {},
   "outputs": [
    {
     "name": "stdout",
     "output_type": "stream",
     "text": [
      "BaseGameText {} \n",
      "\t\t\n"
     ]
    }
   ],
   "source": [
    "for child in onefile_example_root:\n",
    "    print(child.tag, child.attrib, child.text)"
   ]
  },
  {
   "cell_type": "markdown",
   "id": "desirable-scene",
   "metadata": {},
   "source": [
    "### DLCs"
   ]
  },
  {
   "cell_type": "code",
   "execution_count": 143,
   "id": "sunset-designation",
   "metadata": {},
   "outputs": [],
   "source": [
    "onefile_dlc_example_tree = ET.parse(available_dlc_translatables_basefiles[0])\n",
    "onefile_dlc_example_root = onefile_dlc_example_tree.getroot()"
   ]
  },
  {
   "cell_type": "code",
   "execution_count": 142,
   "id": "electric-thesis",
   "metadata": {},
   "outputs": [
    {
     "data": {
      "text/plain": [
       "\"/mnt/l/Games/steamapps/common/Sid Meier's Civilization VI/DLC/AlexanderScenario/Text/en_US/AlexanderScenario_CivilopediaText.xml\""
      ]
     },
     "execution_count": 142,
     "metadata": {},
     "output_type": "execute_result"
    }
   ],
   "source": [
    "available_dlc_translatables_basefiles[0]"
   ]
  },
  {
   "cell_type": "code",
   "execution_count": 144,
   "id": "systematic-campaign",
   "metadata": {},
   "outputs": [
    {
     "name": "stdout",
     "output_type": "stream",
     "text": [
      "LOC_PEDIA_GREATPEOPLE_PAGE_GREAT_PERSON_INDIVIDUAL_MELEAGER_CHAPTER_HISTORY_PARA_1 \n",
      "    Though Meleager never rose to prominence among Alexander’s generals, he was a reliable officer who commanded a phalanx division throughout his king’s campaigns. Perhaps it was his blunt manner—when asked to calm unhappy soldiers following Alexander’s death, he ended up joining (and leading) a mutiny against his fellow generals.\n",
      "LOC_PEDIA_GREATPEOPLE_PAGE_GREAT_PERSON_INDIVIDUAL_POLYPERCHON_CHAPTER_HISTORY_PARA_1 \n",
      "    Polyperchon commanded a phalanx under Alexander until the time of his king’s death, though he is better known for his involvement in the subsequent succession wars. Successfully navigating the constantly shifting loyalties during at least three wars of the Diadochi, Polyperchon was thought to have survived through the 3rd Century BCE.\n",
      "LOC_PEDIA_GREATPEOPLE_PAGE_GREAT_PERSON_INDIVIDUAL_SELEUCUS_CHAPTER_HISTORY_PARA_1 \n",
      "    Seleucus was a contemporary of Alexander who trained with the best and brightest Philip II’s Macedon. He commanded the elite hypaspistai during Alexander’s campaigns, and his responsibility for protecting Alexander’s flanks continued long after his death, when Seleucus ultimately founded the Seleucid Empire, which stretched from modern day Turkey to Afghanistan.\n",
      "LOC_PEDIA_GREATPEOPLE_PAGE_GREAT_PERSON_INDIVIDUAL_CLEITUS_CHAPTER_HISTORY_PARA_1 \n",
      "    Cleitus the Black served as a cavalry general under Alexander the Great. After saving the young king’s life near the beginning of his campaigns, Cleitus has the dubious distinction of being repaid with a spear drunkenly hurled through the chest—years later, and to Alexander’s apparent dismay after the fact.\n",
      "LOC_PEDIA_GREATPEOPLE_PAGE_GREAT_PERSON_INDIVIDUAL_ERIGYIUS_CHAPTER_HISTORY_PARA_1 \n",
      "    Erigyius was so loyal to Alexander that a suspicious Philip II had him banished from Macedon. Upon the old king’s death, the new king needed cavalry commanders—and Erigyius was up to the task. He served faithfully through Alexander’s campaigns, but was ultimately killed in battle with Bactrians.\n",
      "LOC_PEDIA_GREATPEOPLE_PAGE_GREAT_PERSON_INDIVIDUAL_HEPHAESTION_CHAPTER_HISTORY_PARA_1 \n",
      "    Hephaestion, Alexander the Great’s closest friend since childhood, would eventually command the hetairoi during Alexander’s expeditions. This wasn’t favoritism—Hephaestion was an unquestionably brilliant and capable commander. His sudden illness and death was a severe blow to Alexander, who spared no expense for his funeral and planned multiple lasting tributes.\n",
      "LOC_PEDIA_GREATPEOPLE_PAGE_GREAT_PERSON_INDIVIDUAL_LEONNATUS_CHAPTER_HISTORY_PARA_1 \n",
      "    Leonnatus was a loyal cavalry general of Alexander the Great who was trusted and skilled enough to become one of the king’s personal bodyguards. He served throughout Alexander’s campaigns. After Alexander’s death, Leonnatus was caught up in the wars of succession. He met his end at Athenian hands in the Lamian War.\n",
      "LOC_PEDIA_GREATPEOPLE_PAGE_GREAT_PERSON_INDIVIDUAL_PERDICCAS_CHAPTER_HISTORY_PARA_1 \n",
      "    Though Perdiccas began his military career as a phalanx commander, Alexander the Great eventually appointed him the commander of the hetairoi (Companion cavalry) after Hephaestion’s death. On Alexander’s deathbed, Perdiccas was made supreme commander and regent—a position he squandered through poor politics, leading to the first war of succession.\n",
      "LOC_PEDIA_GREATPEOPLE_PAGE_GREAT_PERSON_INDIVIDUAL_PHILOTAS_CHAPTER_HISTORY_PARA_1 \n",
      "    Philip’s general Parmenion supported Alexander’s ascension to the throne. In return, the new king elevated Parmenion’s son Philotas to general in command of the Companion cavalry. Despite his capability on the battlefield, Philotas’s rebellious streak led him to plot treason, which brought about the death of himself and his father.\n",
      "LOC_PEDIA_GREATPEOPLE_PAGE_GREAT_PERSON_INDIVIDUAL_ALEXANDER_CHAPTER_HISTORY_PARA_1 \n",
      "    Alexander had a reputation for leading from the front, endearing himself to his soldiers by sharing in the same (or more) danger than they did. He would often lead the hetairoi (Companion cavalry) into battle, and was once so impatient to storm the walls of a besieged city that he and a few troops found themselves cut off and surrounded by the enemy. Though he suffered a grievous wound, he survived the seemingly impossible situation, and his soldiers loved him all the more for his courage—which the sly Alexander certainly used to push them beyond their limits.\n"
     ]
    }
   ],
   "source": [
    "for loc_row in onefile_dlc_example_root.findall('BaseGameText/Row')[-10:]:\n",
    "    print(f\"{loc_row.attrib['Tag']} \\n    {loc_row.find('Text').text}\")\n",
    "\n",
    "for loc_row2 in onefile_dlc_example_root.findall('EnglishText/Row')[-10:]:\n",
    "    print(f\"{loc_row2.attrib['Tag']} \\n    {loc_row2.find('Text').text}\")"
   ]
  },
  {
   "cell_type": "markdown",
   "id": "rapid-softball",
   "metadata": {},
   "source": [
    "## Put all of translatables file to a line of text only"
   ]
  },
  {
   "cell_type": "markdown",
   "id": "informational-default",
   "metadata": {},
   "source": [
    "### Filename"
   ]
  },
  {
   "cell_type": "code",
   "execution_count": 71,
   "id": "blind-response",
   "metadata": {},
   "outputs": [
    {
     "data": {
      "text/plain": [
       "'AdvisorText_raw_en'"
      ]
     },
     "execution_count": 71,
     "metadata": {},
     "output_type": "execute_result"
    }
   ],
   "source": [
    "#Original filename - Eg: AdvisorText\n",
    "translatables_basefiles[0].split(\"/\")[-1].split(\".\")[0] + \"_raw_en\""
   ]
  },
  {
   "cell_type": "markdown",
   "id": "formal-discrimination",
   "metadata": {},
   "source": [
    "### Some preparation for dump folder"
   ]
  },
  {
   "cell_type": "code",
   "execution_count": 83,
   "id": "precious-sister",
   "metadata": {},
   "outputs": [],
   "source": [
    "from time import localtime, strftime\n",
    "\n",
    "def prepare_container_folder():\n",
    "    cwd = Path.cwd()\n",
    "    dump_path = cwd / 'dump'\n",
    "    container_path = dump_path/ strftime(\"%d_%m_%Y_%H_%M_%S\", localtime())\n",
    "\n",
    "    if not dump_path.exists():\n",
    "        dump_path.mkdir()\n",
    "        container_path.mkdir()\n",
    "    else:\n",
    "        container_path.mkdir()\n",
    "    \n",
    "    return container_path.exists(), container_path"
   ]
  },
  {
   "cell_type": "code",
   "execution_count": 85,
   "id": "exclusive-snake",
   "metadata": {},
   "outputs": [],
   "source": [
    "status, container_path = prepare_container_folder()"
   ]
  },
  {
   "cell_type": "code",
   "execution_count": 86,
   "id": "macro-selection",
   "metadata": {},
   "outputs": [
    {
     "data": {
      "text/plain": [
       "PosixPath('/home/longchau/civ6/apps/translatables/translatables/dump/07_02_2021_12_00_40')"
      ]
     },
     "execution_count": 86,
     "metadata": {},
     "output_type": "execute_result"
    }
   ],
   "source": [
    "container_path"
   ]
  },
  {
   "cell_type": "markdown",
   "id": "indie-portable",
   "metadata": {},
   "source": [
    "### Base game text dump"
   ]
  },
  {
   "cell_type": "code",
   "execution_count": 161,
   "id": "spoken-borough",
   "metadata": {},
   "outputs": [],
   "source": [
    "base_container_path = container_path / 'base'\n",
    "\n",
    "def base_en_dump_generator(translatables_basefiles = None):\n",
    "    status = True\n",
    "    file_generated = 0\n",
    "    \n",
    "    if not base_container_path.exists():\n",
    "        base_container_path.mkdir()\n",
    "    \n",
    "    if translatables_basefiles is not None:\n",
    "        for basefile_path in translatables_basefiles:\n",
    "            tmp = \"\"\n",
    "            tmp_tree = ET.parse(basefile_path)\n",
    "            tmp_root = tmp_tree.getroot()\n",
    "            tmp_filename = basefile_path.split(\"/\")[-1].split(\".\")[0] + \"_raw_en\" + \".txt\"\n",
    "            tmp_filepath = base_container_path / tmp_filename\n",
    "            tmp_filepath.touch()\n",
    "            \n",
    "            for loc_row in tmp_root.findall('BaseGameText/Row'):\n",
    "                try:\n",
    "                    tmp += loc_row.find('Text').text + '\\n'\n",
    "                except TypeError: \n",
    "                    print(basefile_path.split(\"/\")[-1].split(\".\")[0])\n",
    "                    print(loc_row)\n",
    "    \n",
    "            tmp_filepath.write_text(tmp, encoding='utf-8')\n",
    "        \n",
    "            status &= tmp_filepath.is_file()\n",
    "            file_generated += 1\n",
    "            \n",
    "    return status, file_generated            "
   ]
  },
  {
   "cell_type": "code",
   "execution_count": 162,
   "id": "adjacent-switch",
   "metadata": {},
   "outputs": [
    {
     "name": "stdout",
     "output_type": "stream",
     "text": [
      "DiplomacyStatements_KudosAndWarnings_Text\n",
      "<Element 'Row' at 0x7fe6103503b8>\n",
      "DiplomacyStatements_KudosAndWarnings_Text\n",
      "<Element 'Row' at 0x7fe6102fcb38>\n",
      "Grammar_Text\n",
      "<Element 'Row' at 0x7fe61040bd18>\n"
     ]
    },
    {
     "data": {
      "text/plain": [
       "(True, 115)"
      ]
     },
     "execution_count": 162,
     "metadata": {},
     "output_type": "execute_result"
    }
   ],
   "source": [
    "base_en_dump_generator(translatables_basefiles)"
   ]
  },
  {
   "cell_type": "markdown",
   "id": "balanced-december",
   "metadata": {},
   "source": [
    "### DLC text dump"
   ]
  },
  {
   "cell_type": "code",
   "execution_count": 163,
   "id": "compound-tucson",
   "metadata": {},
   "outputs": [],
   "source": [
    "dlc_container_path = container_path / 'dlc'\n",
    "\n",
    "def dlc_en_dump_generator(available_dlc_translatables_basefiles = None):\n",
    "    status = True\n",
    "    file_generated = 0\n",
    "    \n",
    "    if not dlc_container_path.exists():\n",
    "        dlc_container_path.mkdir()\n",
    "    \n",
    "    if available_dlc_translatables_basefiles is not None:\n",
    "        for dlc_filepath in available_dlc_translatables_basefiles:\n",
    "            if dlc_filepath.split(\"/\")[-1].split(\".\")[0] != 'README':\n",
    "                tmp = \"\"\n",
    "                tmp_tree = ET.parse(dlc_filepath)\n",
    "                tmp_root = tmp_tree.getroot()\n",
    "                tmp_filename = dlc_filepath.split(\"/\")[-1].split(\".\")[0] + \"_raw_en\" + \".txt\"\n",
    "                tmp_filepath = dlc_container_path / tmp_filename\n",
    "                tmp_filepath.touch()       \n",
    "\n",
    "                for loc_row in tmp_root.findall('BaseGameText/Row'):\n",
    "                    try:\n",
    "                        tmp += loc_row.find('Text').text + '\\n'\n",
    "                    except TypeError:\n",
    "                        print(dlc_filepath.split(\"/\")[-1].split(\".\")[0])\n",
    "                        print(loc_row)\n",
    "\n",
    "                for loc_row in tmp_root.findall('EnglishText/Row'):\n",
    "                    try:\n",
    "                        tmp += loc_row.find('Text').text + '\\n'\n",
    "                    except TypeError: \n",
    "                        print(dlc_filepath.split(\"/\")[-1].split(\".\")[0])\n",
    "                        print(loc_row)                    \n",
    "\n",
    "                tmp_filepath.write_text(tmp, encoding='utf-8')\n",
    "\n",
    "                status &= tmp_filepath.is_file()\n",
    "                file_generated += 1\n",
    "            \n",
    "    return status, file_generated"
   ]
  },
  {
   "cell_type": "code",
   "execution_count": 164,
   "id": "proud-creator",
   "metadata": {},
   "outputs": [
    {
     "name": "stdout",
     "output_type": "stream",
     "text": [
      "PiratesScenario_ConfigText\n",
      "<Element 'Row' at 0x7fe610292778>\n"
     ]
    },
    {
     "data": {
      "text/plain": [
       "(True, 217)"
      ]
     },
     "execution_count": 164,
     "metadata": {},
     "output_type": "execute_result"
    }
   ],
   "source": [
    "dlc_en_dump_generator(available_dlc_translatables_basefiles)"
   ]
  },
  {
   "cell_type": "code",
   "execution_count": null,
   "id": "derived-setup",
   "metadata": {},
   "outputs": [],
   "source": []
  }
 ],
 "metadata": {
  "kernelspec": {
   "display_name": "Python 3",
   "language": "python",
   "name": "python3"
  },
  "language_info": {
   "codemirror_mode": {
    "name": "ipython",
    "version": 3
   },
   "file_extension": ".py",
   "mimetype": "text/x-python",
   "name": "python",
   "nbconvert_exporter": "python",
   "pygments_lexer": "ipython3",
   "version": "3.6.9"
  }
 },
 "nbformat": 4,
 "nbformat_minor": 5
}
